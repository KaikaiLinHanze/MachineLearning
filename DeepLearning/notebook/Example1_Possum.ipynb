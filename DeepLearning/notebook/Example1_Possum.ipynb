{
 "cells": [
  {
   "cell_type": "markdown",
   "metadata": {},
   "source": [
    "# Dataset : bioinf.nl/~davelangers/datasets/possum.zip"
   ]
  },
  {
   "cell_type": "code",
   "execution_count": 1,
   "metadata": {},
   "outputs": [],
   "source": [
    "import pandas as pd\n",
    "df = pd.read_csv(\"possum.csv\").dropna()"
   ]
  },
  {
   "cell_type": "code",
   "execution_count": 2,
   "metadata": {},
   "outputs": [
    {
     "data": {
      "text/plain": [
       "array([[8.],\n",
       "       [6.],\n",
       "       [6.],\n",
       "       [6.],\n",
       "       [2.],\n",
       "       [1.],\n",
       "       [2.],\n",
       "       [6.],\n",
       "       [9.],\n",
       "       [6.],\n",
       "       [9.],\n",
       "       [5.],\n",
       "       [5.],\n",
       "       [3.],\n",
       "       [5.],\n",
       "       [4.],\n",
       "       [1.],\n",
       "       [2.],\n",
       "       [5.],\n",
       "       [4.],\n",
       "       [3.],\n",
       "       [3.],\n",
       "       [4.],\n",
       "       [2.],\n",
       "       [3.],\n",
       "       [7.],\n",
       "       [2.],\n",
       "       [4.],\n",
       "       [3.],\n",
       "       [2.],\n",
       "       [3.],\n",
       "       [4.],\n",
       "       [3.],\n",
       "       [2.],\n",
       "       [4.],\n",
       "       [7.],\n",
       "       [2.],\n",
       "       [7.],\n",
       "       [1.],\n",
       "       [3.],\n",
       "       [3.],\n",
       "       [2.],\n",
       "       [3.],\n",
       "       [2.],\n",
       "       [5.],\n",
       "       [4.],\n",
       "       [5.],\n",
       "       [5.],\n",
       "       [6.],\n",
       "       [3.],\n",
       "       [7.],\n",
       "       [2.],\n",
       "       [3.],\n",
       "       [4.],\n",
       "       [3.],\n",
       "       [2.],\n",
       "       [2.],\n",
       "       [7.],\n",
       "       [3.],\n",
       "       [6.],\n",
       "       [3.],\n",
       "       [5.],\n",
       "       [3.],\n",
       "       [4.],\n",
       "       [5.],\n",
       "       [5.],\n",
       "       [7.],\n",
       "       [6.],\n",
       "       [1.],\n",
       "       [1.],\n",
       "       [4.],\n",
       "       [6.],\n",
       "       [5.],\n",
       "       [6.],\n",
       "       [1.],\n",
       "       [1.],\n",
       "       [1.],\n",
       "       [3.],\n",
       "       [4.],\n",
       "       [3.],\n",
       "       [3.],\n",
       "       [3.],\n",
       "       [3.],\n",
       "       [2.],\n",
       "       [2.],\n",
       "       [6.],\n",
       "       [3.],\n",
       "       [3.],\n",
       "       [2.],\n",
       "       [3.],\n",
       "       [7.],\n",
       "       [4.],\n",
       "       [4.],\n",
       "       [3.],\n",
       "       [5.],\n",
       "       [3.],\n",
       "       [1.],\n",
       "       [1.],\n",
       "       [6.],\n",
       "       [4.],\n",
       "       [3.]])"
      ]
     },
     "execution_count": 2,
     "metadata": {},
     "output_type": "execute_result"
    }
   ],
   "source": [
    "y = df.age.values.reshape(-1,1)\n",
    "y"
   ]
  },
  {
   "cell_type": "code",
   "execution_count": 3,
   "metadata": {},
   "outputs": [
    {
     "data": {
      "text/plain": [
       "array([[1.],\n",
       "       [0.],\n",
       "       [0.],\n",
       "       [0.],\n",
       "       [0.],\n",
       "       [0.],\n",
       "       [1.],\n",
       "       [0.],\n",
       "       [0.],\n",
       "       [0.],\n",
       "       [0.],\n",
       "       [0.],\n",
       "       [1.],\n",
       "       [1.],\n",
       "       [1.],\n",
       "       [1.],\n",
       "       [0.],\n",
       "       [1.],\n",
       "       [0.],\n",
       "       [0.],\n",
       "       [0.],\n",
       "       [1.],\n",
       "       [0.],\n",
       "       [1.],\n",
       "       [1.],\n",
       "       [1.],\n",
       "       [0.],\n",
       "       [1.],\n",
       "       [0.],\n",
       "       [0.],\n",
       "       [1.],\n",
       "       [0.],\n",
       "       [1.],\n",
       "       [1.],\n",
       "       [1.],\n",
       "       [1.],\n",
       "       [0.],\n",
       "       [1.],\n",
       "       [0.],\n",
       "       [0.],\n",
       "       [1.],\n",
       "       [0.],\n",
       "       [1.],\n",
       "       [1.],\n",
       "       [1.],\n",
       "       [1.],\n",
       "       [0.],\n",
       "       [0.],\n",
       "       [1.],\n",
       "       [0.],\n",
       "       [1.],\n",
       "       [1.],\n",
       "       [1.],\n",
       "       [0.],\n",
       "       [1.],\n",
       "       [1.],\n",
       "       [0.],\n",
       "       [1.],\n",
       "       [0.],\n",
       "       [0.],\n",
       "       [0.],\n",
       "       [0.],\n",
       "       [0.],\n",
       "       [1.],\n",
       "       [1.],\n",
       "       [1.],\n",
       "       [0.],\n",
       "       [1.],\n",
       "       [1.],\n",
       "       [1.],\n",
       "       [0.],\n",
       "       [1.],\n",
       "       [1.],\n",
       "       [1.],\n",
       "       [1.],\n",
       "       [1.],\n",
       "       [1.],\n",
       "       [1.],\n",
       "       [0.],\n",
       "       [0.],\n",
       "       [1.],\n",
       "       [1.],\n",
       "       [0.],\n",
       "       [1.],\n",
       "       [0.],\n",
       "       [1.],\n",
       "       [1.],\n",
       "       [1.],\n",
       "       [1.],\n",
       "       [1.],\n",
       "       [1.],\n",
       "       [1.],\n",
       "       [1.],\n",
       "       [1.],\n",
       "       [1.],\n",
       "       [0.],\n",
       "       [1.],\n",
       "       [1.],\n",
       "       [0.],\n",
       "       [1.],\n",
       "       [0.]])"
      ]
     },
     "execution_count": 3,
     "metadata": {},
     "output_type": "execute_result"
    }
   ],
   "source": [
    "sex = (df.sex.values == \"m\") + 0.\n",
    "sex = sex.reshape(-1,1)\n",
    "sex"
   ]
  },
  {
   "cell_type": "code",
   "execution_count": 4,
   "metadata": {},
   "outputs": [
    {
     "data": {
      "text/plain": [
       "array([[94.1, 60.4, 89. , ..., 28. , 36. ,  1. ],\n",
       "       [92.5, 57.6, 91.5, ..., 28.5, 33. ,  0. ],\n",
       "       [94. , 60. , 95.5, ..., 30. , 34. ,  0. ],\n",
       "       ...,\n",
       "       [92.4, 55. , 89. , ..., 25. , 30. ,  0. ],\n",
       "       [91.5, 55.2, 82.5, ..., 25. , 29. ,  1. ],\n",
       "       [93.6, 59.9, 89. , ..., 28.5, 33.5,  0. ]])"
      ]
     },
     "execution_count": 4,
     "metadata": {},
     "output_type": "execute_result"
    }
   ],
   "source": [
    "import numpy as np\n",
    "x = np.hstack((df.iloc[:,5:].values, sex))\n",
    "x"
   ]
  },
  {
   "cell_type": "code",
   "execution_count": 5,
   "metadata": {},
   "outputs": [],
   "source": [
    "# standard scaler\n",
    "mu = x.mean(axis = 0)\n",
    "sigma = x.std(axis = 0)\n",
    "x = (x - mu)/sigma"
   ]
  },
  {
   "cell_type": "markdown",
   "metadata": {},
   "source": [
    "## Deep learning"
   ]
  },
  {
   "cell_type": "code",
   "execution_count": 6,
   "metadata": {},
   "outputs": [],
   "source": [
    "import tensorflow\n",
    "from tensorflow import keras"
   ]
  },
  {
   "cell_type": "code",
   "execution_count": 7,
   "metadata": {},
   "outputs": [
    {
     "name": "stdout",
     "output_type": "stream",
     "text": [
      "Model: \"sequential\"\n",
      "_________________________________________________________________\n",
      "Layer (type)                 Output Shape              Param #   \n",
      "=================================================================\n",
      "hidden_1 (Dense)             (None, 64)                704       \n",
      "_________________________________________________________________\n",
      "hidden_2 (Dense)             (None, 16)                1040      \n",
      "_________________________________________________________________\n",
      "output (Dense)               (None, 1)                 17        \n",
      "=================================================================\n",
      "Total params: 1,761\n",
      "Trainable params: 1,761\n",
      "Non-trainable params: 0\n",
      "_________________________________________________________________\n"
     ]
    },
    {
     "name": "stderr",
     "output_type": "stream",
     "text": [
      "2022-06-20 10:45:50.300678: I tensorflow/core/platform/cpu_feature_guard.cc:142] This TensorFlow binary is optimized with oneAPI Deep Neural Network Library (oneDNN)to use the following CPU instructions in performance-critical operations:  SSE4.1 SSE4.2 AVX AVX2 AVX512F FMA\n",
      "To enable them in other operations, rebuild TensorFlow with the appropriate compiler flags.\n",
      "2022-06-20 10:45:50.379055: I tensorflow/core/platform/profile_utils/cpu_utils.cc:104] CPU Frequency: 2500000000 Hz\n",
      "2022-06-20 10:45:50.416488: I tensorflow/compiler/xla/service/service.cc:168] XLA service 0x55add675c400 initialized for platform Host (this does not guarantee that XLA will be used). Devices:\n",
      "2022-06-20 10:45:50.416541: I tensorflow/compiler/xla/service/service.cc:176]   StreamExecutor device (0): Host, Default Version\n"
     ]
    }
   ],
   "source": [
    "neural = keras.models.Sequential()\n",
    "neural.add(keras.layers.InputLayer(input_shape=(10,)))\n",
    "neural.add(keras.layers.Dense(units=64,activation=keras.activations.relu, name= \"hidden_1\"))\n",
    "neural.add(keras.layers.Dense(units=16,activation=keras.activations.relu, name= \"hidden_2\"))\n",
    "neural.add(keras.layers.Dense(units=1,activation=keras.activations.linear, name= \"output\")) # output cannot be negative\n",
    "neural.summary()"
   ]
  },
  {
   "cell_type": "code",
   "execution_count": 8,
   "metadata": {},
   "outputs": [
    {
     "data": {
      "text/plain": [
       "<tensorflow.python.keras.callbacks.History at 0x7ff3cc790c10>"
      ]
     },
     "execution_count": 8,
     "metadata": {},
     "output_type": "execute_result"
    }
   ],
   "source": [
    "neural.compile(\n",
    "    loss=keras.losses.MeanSquaredError(),\n",
    "    optimizer = keras.optimizers.SGD() \n",
    ")\n",
    "neural.fit(\n",
    "    x = x,\n",
    "    y = y,\n",
    "    epochs = 1,\n",
    "    verbose = 0\n",
    ")"
   ]
  },
  {
   "cell_type": "code",
   "execution_count": 9,
   "metadata": {},
   "outputs": [
    {
     "name": "stdout",
     "output_type": "stream",
     "text": [
      "4/4 [==============================] - 0s 756us/step - loss: 10.5341\n"
     ]
    },
    {
     "data": {
      "text/plain": [
       "10.534116744995117"
      ]
     },
     "execution_count": 9,
     "metadata": {},
     "output_type": "execute_result"
    }
   ],
   "source": [
    "neural.evaluate(x,y)"
   ]
  },
  {
   "cell_type": "code",
   "execution_count": 10,
   "metadata": {},
   "outputs": [],
   "source": [
    "yhat = neural.predict(x)"
   ]
  },
  {
   "cell_type": "code",
   "execution_count": 11,
   "metadata": {},
   "outputs": [
    {
     "data": {
      "image/png": "[encoded data removed]",
      "text/plain": [
       "<Figure size 432x288 with 1 Axes>"
      ]
     },
     "metadata": {
      "needs_background": "light"
     },
     "output_type": "display_data"
    }
   ],
   "source": [
    "import matplotlib.pyplot as plt\n",
    "plt.plot(y,yhat,\".\")\n",
    "plt.plot([0,10],[0,10],'-k')\n",
    "plt.xlabel(\"y\")\n",
    "plt.ylabel(\"$\\hat{y}$\")\n",
    "plt.grid(True)\n",
    "plt.show()"
   ]
  },
  {
   "cell_type": "code",
   "execution_count": 12,
   "metadata": {},
   "outputs": [
    {
     "name": "stdout",
     "output_type": "stream",
     "text": [
      "r2 = -1.9006784758454471\n",
      "MAE = 2.697878907222559\n",
      "RMSE = 3.246 yr\n"
     ]
    }
   ],
   "source": [
    "from sklearn.metrics import r2_score,mean_absolute_error,mean_squared_error\n",
    "print(f'r2 = {r2_score(y_true=y,y_pred = yhat)}')\n",
    "print(f'MAE = {mean_absolute_error(y_true=y,y_pred = yhat)}')\n",
    "print(f'RMSE = {np.sqrt(mean_squared_error(y_true=y,y_pred = yhat)):.3f} yr')\n"
   ]
  },
  {
   "cell_type": "markdown",
   "metadata": {},
   "source": [
    "# Machine learning (Numpy)\n"
   ]
  },
  {
   "cell_type": "code",
   "execution_count": 13,
   "metadata": {},
   "outputs": [],
   "source": [
    "design = np.hstack((np.ones((101,1)),x))\n",
    "coefs = np.linalg.solve(design.T @ design,design.T@y)\n",
    "yhat = design@coefs\n"
   ]
  },
  {
   "cell_type": "code",
   "execution_count": 14,
   "metadata": {},
   "outputs": [
    {
     "data": {
      "image/png": "[encoded data removed]",
      "text/plain": [
       "<Figure size 432x288 with 1 Axes>"
      ]
     },
     "metadata": {
      "needs_background": "light"
     },
     "output_type": "display_data"
    }
   ],
   "source": [
    "plt.plot(y,yhat,\".\")\n",
    "plt.plot([0,10],[0,10],'-k')\n",
    "plt.xlabel(\"y\")\n",
    "plt.ylabel(\"$\\hat{y}$\")\n",
    "plt.grid(True)\n",
    "plt.show()"
   ]
  },
  {
   "cell_type": "code",
   "execution_count": 15,
   "metadata": {},
   "outputs": [
    {
     "name": "stdout",
     "output_type": "stream",
     "text": [
      "r2 = 0.199 yr\n",
      "MAE = 1.363 yr\n",
      "RMSE = 1.706 yr\n"
     ]
    }
   ],
   "source": [
    "from sklearn.metrics import r2_score,mean_absolute_error,mean_squared_error\n",
    "print(f'r2 = {r2_score(y_true=y,y_pred = yhat):.3f} yr')\n",
    "print(f'MAE = {mean_absolute_error(y_true=y,y_pred = yhat):.3f} yr')\n",
    "print(f'RMSE = {np.sqrt(mean_squared_error(y_true=y,y_pred = yhat)):.3f} yr')"
   ]
  },
  {
   "cell_type": "code",
   "execution_count": null,
   "metadata": {},
   "outputs": [],
   "source": []
  }
 ],
 "metadata": {
  "interpreter": {
   "hash": "ca1b872015604588654afab8889c327752f46265fe55163fa640f2d3ca6aaea6"
  },
  "kernelspec": {
   "display_name": "Python 3.8.12 ('base')",
   "language": "python",
   "name": "python3"
  },
  "language_info": {
   "codemirror_mode": {
    "name": "ipython",
    "version": 3
   },
   "file_extension": ".py",
   "mimetype": "text/x-python",
   "name": "python",
   "nbconvert_exporter": "python",
   "pygments_lexer": "ipython3",
   "version": "3.8.12"
  },
  "orig_nbformat": 4
 },
 "nbformat": 4,
 "nbformat_minor": 2
}
